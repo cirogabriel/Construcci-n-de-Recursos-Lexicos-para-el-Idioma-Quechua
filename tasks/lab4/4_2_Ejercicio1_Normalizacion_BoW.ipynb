{
  "cells": [
    {
      "cell_type": "markdown",
      "metadata": {
        "id": "38p4sYYh6DOT"
      },
      "source": [
        "# **PROCESAMIENTO DE LENGUAJE NATURAL**\n",
        "\n",
        "## **Ejercicio: Normalización de textos y Bolsa de Palabras**\n",
        "\n",
        "* En el siguiente ejercicio vamos a trabajar con una serie de artículos obtenidos de la web \"https://www.elmundotoday.com/\".\n",
        "\n",
        "* Estos artículos se encuentran en un archivo csv dentro de la carpeta \"data\"  (./data/corpus_mundo_today.csv).\n",
        "\n",
        "* Este CSV esta formado por 3 campos que son:\n",
        "    - Tema\n",
        "    - Título\n",
        "    - Texto\n",
        "        \n",
        "* El ejercicio consiste en Normalizar este ***Corpus*** tomando el *título* y *texto* como contenido de cada documento y crear 3 ***Bolsa de Palabras*** de la tres formas vistas en el COLAB anterior.\n",
        "\n",
        "\n"
      ]
    },
    {
      "cell_type": "code",
      "source": [
        "import csv\n",
        "\n",
        "# Ruta del archivo CSV que contiene los documentos.\n",
        "docs_file = './corpus_mundo_today.csv'\n",
        "\n",
        "# Abrir el archivo CSV y leer sus primeras 5 líneas e imprimir.\n",
        "with open(docs_file, 'r', encoding=\"utf8\") as file:\n",
        "    csv_reader = csv.reader(file)\n",
        "    for i, row in enumerate(csv_reader):\n",
        "        if i < 10:  # Imprimir solo las primeras 5 líneas\n",
        "            print(','.join(row))  # Imprimir la fila original\n",
        "        else:\n",
        "            break\n"
      ],
      "metadata": {
        "colab": {
          "base_uri": "https://localhost:8080/"
        },
        "id": "ZxgPTMd4DPsi",
        "outputId": "632ae5e6-39e0-4014-8f83-c96968eedde2"
      },
      "execution_count": 4,
      "outputs": [
        {
          "output_type": "stream",
          "name": "stdout",
          "text": [
            "tema||título||texto\n",
            "politica||El Gobierno español sumará a Junqueras las condenas que no vaya a cumplir Puigdemont||Después del revés recibido por el Gobierno de España tras la puesta en libertad de Carles Puigdemont por parte de la justicia alemana, el juez Pablo Llarena ha decidido esta semana, a instancias del Ejecutivo, que sumará a Oriol Junqueras las condenas que no vaya a cumplir el líder del PDeCAT. El exvicepresidente de Cataluña, que permanece en la prisión madrileña de Estremera desde el pasado dos de noviembre, asumiría por tanto todos los delitos atribuidos a Carles Puigdemont y, de esta manera, el Tribunal Supremo se asegura de que los actos del expresidente catalán durante la última legislatura no quedan impunes, ya que “Junqueras pagará por todos y cada uno de ellos”. Con esta maniobra ideada para burlar la justicia alemana, el líder de Esquerra Republicana se enfrenta a 50 años más de prisión. “Seguiremos adelante aunque a Junqueras le caigan cien años más, nadie nos va a parar”, ha dicho hoy Carles Puigdemont desde Alemania. “Haré lo que tenga que hacer y si Junqueras se tiene que sacrificar por ello, lo asumiré con resignación y determinación”, ha prometido. “Seguim!”, tuiteaba poco después de trascender la decisión de Llarena. Según fuentes anónimas del poder judicial, se está barajando también la posibilidad de añadir a la pena de Oriol Junqueras las condenas que puedan imponerse en el futuro a Iñaki Urdangarin, Rodrigo Rato o Esperanza Aguirre, entre otros, así como la de un delito de robo con fuerza ocurrido hace una semana en Huesca y del que la policía ha sido incapaz de encontrar al culpable.\n",
            "politica||Ciudadanos exige la dimisión de Cifuentes el año que viene sin falta, cuando haya elecciones||Ciudadanos se ha vuelto a mostrar implacable en su oposición al Gobierno del Partido Popular. Apenas unas semanas después de que saltase el escándalo sobre las presuntas irregularidades del máster de Cristina Cifuentes en la Universidad Rey Juan Carlos, el portavoz regional de Ciudadanos, Ignacio Aguado, ha exigido la dimisión de la presidenta para el año que viene sin falta, en cuanto se celebren las elecciones autonómicas de Madrid. Tras dar por vencido el ultimátum dado al PP para que apoye la creación de una comisión de investigación, Aguado se ha mostrado firme y ha dado un nuevo ultimátum amenazando con dar más ultimátums. “Estamos dispuestos a darles todos los ultimátums que hagan falta, no nos va a temblar el pulso”, ha dicho con contundencia. Para Albert Rivera, líder de la formación, “la situación es insostenible y el año que viene, cuando se celebren elecciones, Cristina Cifuentes se tiene que marchar”. De esta manera, la dirección nacional de Ciudadanos quiere demostrar su compromiso de limpiar de corrupción el partido en el Gobierno. “A no ser que Cifuentes sea la más votada en los comicios, no vamos a permitir que siga en su puesto”, ha declarado con severidad. “Al final esto es una democracia y es el pueblo el que decide, pero no le vamos a pasar ni una”, ha añadido. Desde la formación naranja han amenazado incluso con proponer un candidato alternativo para presidir la Comunidad de Madrid. “Creemos que C. Cifuentes sería la persona adecuada para el puesto porque tiene la preparación necesaria para relevar a la actual presidenta y limpiar Madrid de corrupción”, ha dicho Albert Rivera a la prensa.\n",
            "politica||Mariano Rajoy admite que incluyó la presidencia de España en su curriculum pero no recuerda haber hecho nada||El líder del Partido Popular, Mariano Rajoy, ha reconocido esta tarde que en el curriculum que figura en la página web oficial de su partido aparece la presidencia de España como una de sus ocupaciones. “No lo recuerdo, sinceramente, puede ser que esté”, ha admitido ante la prensa, quitando hierro tanto a este asunto como a la polémica del máster que habrían obtenido de forma irregular Cristina Cifuentes y también, según se ha sabido más tarde, el vicesecretario de Comunicación del PP, Pablo Casado. “Fue hace años, no es algo a lo que yo dedique mi tiempo, sinceramente”, ha insistido en relación a la presidencia del país. “Esto es un equipo de gente, todos hacemos cosas y nadie conserva todos los documentos de todo, como comprenderá. No tiene sentido ponerse a mirar si este presidió esto o lo otro en tal o cual año, centrémonos en lo que toca, no en polémicas absurdas que nos distraen de los asuntos verdaderamente serios y verdaderamente importantes”, ha argumentado Rajoy. Ante la insistencia de los periodistas, el político popular ha precisado que “lo de la presidencia no lo sé, pero lo que sí les puedo decir es que, de joven, los sábados por la tarde, jugaba al baloncesto, en la liga de colegios, y el domingo por la mañana la liga de empresas, aunque éramos los mismos que los de la liga de colegios pero con otro nombre. Todo esto mientras estudiaba en los jesuitas. De esta época sí me acuerdo bien”. Aunque se ha negado a demostrar con pruebas documentales que tiene algo que ver con el Gobierno de la nación, Rajoy sí se ha ofrecido a aportar archivos que, supuestamente, probarían que durante el mandato de José María Aznar ocupó diversas carteras. “Entre 1996 y 2003 ya estaba por aquí, en Administraciones Públicas, creo que también en la vicepresidencia y diría incluso que en Interior, aunque no sé si al final estuvo solo Jaime o nos turnamos. Tengo un cenicero de plata que es precisamente de aquella época. Les puedo asegurar que algo hice y de vez en cuando voy a las Cortes y si no se lo creen pregunten, allí me conoce todo el mundo”, ha asegurado, reiterando que “en cuanto a lo de la presidencia no pondría yo la mano en el fuego”. Al ser preguntados, los ciudadanos españoles tampoco han podido confirmar que Mariano Rajoy les preside.\n",
            "politica||Cristina Cifuentes empieza a referirse a sí misma como “esa señora de la que usted me habla”||Distanciándose de sí misma y fingiendo no conocerse, la presidenta de la Comunidad de Madrid, Cristina Cifuentes, ha empezado a referirse a sí misma como “esa persona que de la que usted me habla”, “ese nombre que usted menciona” e incluso “esa señora que sólo conozco de saludar en los pasillos en Génova”, según se ha desprendido de unas declaraciones que ha hecho esta mañana. “Ah, lo de Cifuentes… Bueno, eso ya tal”, ha dicho Cristina Cifuentes al ser preguntada por los periodistas por la persona a la que refiere el nombre ‘C. Cifuentes’ que figura en los documentos de su supuesto máster. “Creo que ya no es militante y por lo tanto no tengo ninguna autoridad sobre ella”, ha dicho Cifuentes de sí misma, asegurando que se siente “engañada” por esa persona. Según un sondeo de última hora, el electorado español ha empezado a confiar en ella como posible candidata a la presidencia del Gobierno al haber demostrado una solvencia y aptitudes a la altura de los grandes líderes de España.\n",
            "politica||La justicia alemana libera a Puigdemont, pide a Cifuentes que enseñe el trabajo de máster y pregunta quién es “M. Rajoy”||La Audiencia Territorial de Schleswig-Holstein (norte de Alemania) ha descartado este jueves el delito de rebelión en la petición de extradición a España del expresidente de la Generalitat de Cataluña, Carles Puigdemont, y lo ha dejado en libertad bajo fianza para, a continuación, exigir a la presidenta de la Comunidad de Madrid Cristina Cifuentes que enseñe el trabajo de fin de máster y preguntar quién es el ‘M. Rajoy’ que aparece en los papeles de Bárcenas. “No hay rebelión, pero es imprescindible averiguar quién es ‘M. Rajoy’, que es la persona que podría estar detrás de todos estos temas”, ha insistido el juez alemán tras analizar la petición de extradición española del político catalán, asegurando que tanta incógnita sobre la identidad que se esconde tras ese nombre en clave “es un indicio claro de implicación en algún tipo de delito”. Respecto a Cristina Cifuentes, el juez ha confiado en que Alemania se sumará a la moción de censura que el PSOE presentará para apartarla de la presidencia de la Comunidad de Madrid. A última hora, el juez alemán también ha advertido al Gobierno español de que revisará los vídeos de las cargas policiales del 1-O y que abrirá una investigación en torno a los discos duros de la sede del Partido Popular de la calle Génova de Madrid que fueron destruidos. “También pido formalmente hacer los coros en el nuevo tema de Valtonyc”, ha declarado el juez.\n",
            "politica||La oposición muestra documentos que acreditan que Cristina Cifuentes ha dimitido||Cristina Cifuentes ha presentado esta tarde su dimisión como presidenta de la Comunidad de Madrid al término de la asamblea en la que debía dar explicaciones sobre su máster universitario. Todo ello según la versión de la oposición del Gobierno de la región, que ha mostrado la carta de dimisión firmada por Cifuentes. Ésta, sin embargo, asegura que el documento es falso. “Es suya, está aquí y esta es su firma”, ha dicho el portavoz del PSOE, Ángel Gabilondo, entre aplausos del resto de la oposición. “Y si no es un documento auténtico, recae en usted la responsabilidad de probarlo”, ha agregado Gabilondo. Visiblemente alterada, Cifuentes ha insistido en que “esta carta falsificada no prueba nada, es totalmente insuficiente para demostrar que he dimitido”. PSOE, Podemos y Ciudadanos han anunciado que se querellarán contra la “expresidenta” por poner en duda el honor de la oposición al acusarla de falsedad documental, “algo muy grave y más sin tener pruebas de que esta carta de dimisión, firmada por la señora Cifuentes, sea falsa como ella manifiesta”. “Ya hemos dado todas las explicaciones posibles y hemos aportado el documento que las sostiene: usted ha dimitido esta tarde por escrito y, si lo que decimos no es verdad, demuéstrelo y, desde luego, no ejerza usted de presidenta hasta demostrarlo porque, a todos los efectos, usted ha renunciado”, ha zanjado Ignacio Aguado, portavoz de Ciudadanos.\n",
            "politica||Montoro pregunta a los españoles si quieren los Presupuestos Generales “con IVA o sin IVA”||Advirtiendo de que “con IVA es algo más caro”, el ministro de Hacienda, Cristóbal Montoro, ha preguntado hoy a los españoles si los Presupuestos Generales del Estado los quieren con IVA o sin IVA. “Yo he hecho los presupuestos sin el IVA, que nos sale mejor a todos, más baratito”, ha explicado el ministro esta mañana en una rueda de prensa. “No hace falta pasarlo todo por Hacienda”, ha dicho el ministro de Hacienda. En el caso de que el Congreso apruebe los presupuestos de 2018 —que se presentaron ayer de viva voz y sin documentación—, el Gobierno no pedirá a los españoles factura de nada “porque ya hay mucha confianza”. “Ya les digo que Hacienda no se va a enterar porque no miran los presupuestos uno a uno, tranquilos, que lo sé de primera mano”, ha dicho Montoro, asegurando que su equipo no tendría ningún problema en hacer los presupuestos con IVA “si así lo piden los españoles”. “Pero es que, ya digo, sale más caro y no hace falta”, ha explicado. De este modo, los presupuestos presentados ayer contemplan un gasto de 327.955 millones de euros, que el Gobierno justificará como “dietas” mientras que los presupuestos oficiales que constarán en la Administración son de tan sólo 1.345 euros. “Es un win win”, ha insistido Montoro.\n",
            "politica||Las claves de los Presupuestos Generales del Estado||El ministro de Hacienda, Cristóbal Montoro, ha presentado en el Congreso el tradicional libro amarillo con el proyecto de Presupuestos Generales del Estado para 2018. Estas son las novedades más importantes respecto al año pasado: Infraestructuras: Tres nuevas hormigoneras, una más que el año anterior. Cine: El aumento de la partida presupuestaria permitirá que la película de Superlópez, que se estrenará en Navidad de 2019, no tenga la marca de agua del editor de vídeo, dado que se podrá comprar al fin una licencia. 14 euros para comprar “Sin noticias de Gurb” de Eduardo Mendoza, que deberá compartirse entre todos los alumnos españoles. Pensiones: Tras la visita de Soraya Sáenz de Santamaría a su abuela, el Gobierno cuenta con 50 euros más para las pensiones. Cultura: Se recorta un 80% la partida de Cultura porque todo el Gobierno usará la misma cuenta de Netflix. Recortes en Sanidad: Se ha presentado un virus de la gripe de bajo presupuesto que solo provoca mocos y tres estornudos al día. El Gobierno también ha podido recortar el presupuesto de esta partida aligerando las leyes contra la eutanasia. El Ministerio de Medio Ambiente pasará a ocupar un ambiente entero tras recibir más fondos. “La Mañana de La 1” dispondrá de presupuesto para asesorarse con un médico de verdad por primera vez. Por segundo año consecutivo, la partida para el “sostenimiento” de la Familia y la Casa del Rey aumenta ligeramente a los 100 millones de sacos de trigo, 100 veces el peso de su primer vástago en oro y 20 acres de Tierra de nuestros enemigos.\n",
            "politica||Mariano Rajoy se hace un lío y huye de España por error||Asegurando que “mientras haya independentistas, en España no se puede estar” y que la persecución judicial y politica hace el clima de España irrespirable, Mariano Rajoy ha huido por error a Bélgica hoy viernes al leer en la prensa que el Tribunal Supremo ha decidido procesar por rebelión a diversos políticos y temiendo que él pueda ser el próximo. “No me ha dado mucho tiempo a leer los detalles pero he visto que era necesario salir del país cuanto antes”, ha explicado, ya en el extranjero, a la prensa. “Con las cosas que están ocurriendo por los catalanes es evidente que los políticos no podemos quedarnos en España”, ha dicho claramente mal informado de la situación real. “Los jueces están persiguiendo a todo el mundo, yo ya tuve que comparecer en julio por unos temas absurdos”, admite. “Volveré a España cuando se pueda volver a España”, ha explicado. Los periodistas también han podido saber que el presidente (que espera poder gobernar desde el exilio) cambiará su nombre a M. Rajoy a fin de burlar una posible detención internacional. Mariano Rajoy ha enviado además diversos SMS a los españoles con el mensaje “Aguantad, sed fuertes”, aunque ha admitido ante la prensa que no sabe cuándo volverá a España y desconfía de que la situación “tenga algún tipo de arreglo”.\n"
          ]
        }
      ]
    },
    {
      "cell_type": "code",
      "source": [
        "# Lista para almacenar los documentos.\n",
        "docs_list = list()\n",
        "\n",
        "# Abrir el archivo CSV y leer todas las líneas, omitiendo la primera línea.\n",
        "with open(docs_file, 'r', encoding=\"utf8\") as file:\n",
        "    # Leer todas las líneas del archivo.\n",
        "    lines = file.readlines()\n",
        "\n",
        "    # Iterar sobre cada línea del archivo CSV a partir de la segunda línea.\n",
        "    for line in lines[1:]:\n",
        "        # Dividir la línea en campos usando '||' como delimitador.\n",
        "        row = line.strip().split('||')\n",
        "        # Verificar si hay suficientes elementos en la fila.\n",
        "        if len(row) >= 3:\n",
        "            # Concatenar el título (columna 1) y el contenido (columna 2) del documento y agregarlo a la lista de documentos.\n",
        "            docs_list.append(row[1] + ' ' + row[2])\n",
        "\n",
        "# Imprimir los primeros 2 documentos de docs_list.\n",
        "for doc in docs_list[:2]:\n",
        "    print(doc)\n"
      ],
      "metadata": {
        "colab": {
          "base_uri": "https://localhost:8080/"
        },
        "id": "hGU5vFDEF5R3",
        "outputId": "6a31c3fc-cace-4ae3-a037-f2876d73bc8f"
      },
      "execution_count": 5,
      "outputs": [
        {
          "output_type": "stream",
          "name": "stdout",
          "text": [
            "El Gobierno español sumará a Junqueras las condenas que no vaya a cumplir Puigdemont Después del revés recibido por el Gobierno de España tras la puesta en libertad de Carles Puigdemont por parte de la justicia alemana, el juez Pablo Llarena ha decidido esta semana, a instancias del Ejecutivo, que sumará a Oriol Junqueras las condenas que no vaya a cumplir el líder del PDeCAT. El exvicepresidente de Cataluña, que permanece en la prisión madrileña de Estremera desde el pasado dos de noviembre, asumiría por tanto todos los delitos atribuidos a Carles Puigdemont y, de esta manera, el Tribunal Supremo se asegura de que los actos del expresidente catalán durante la última legislatura no quedan impunes, ya que “Junqueras pagará por todos y cada uno de ellos”. Con esta maniobra ideada para burlar la justicia alemana, el líder de Esquerra Republicana se enfrenta a 50 años más de prisión. “Seguiremos adelante aunque a Junqueras le caigan cien años más, nadie nos va a parar”, ha dicho hoy Carles Puigdemont desde Alemania. “Haré lo que tenga que hacer y si Junqueras se tiene que sacrificar por ello, lo asumiré con resignación y determinación”, ha prometido. “Seguim!”, tuiteaba poco después de trascender la decisión de Llarena. Según fuentes anónimas del poder judicial, se está barajando también la posibilidad de añadir a la pena de Oriol Junqueras las condenas que puedan imponerse en el futuro a Iñaki Urdangarin, Rodrigo Rato o Esperanza Aguirre, entre otros, así como la de un delito de robo con fuerza ocurrido hace una semana en Huesca y del que la policía ha sido incapaz de encontrar al culpable.\n",
            "Ciudadanos exige la dimisión de Cifuentes el año que viene sin falta, cuando haya elecciones Ciudadanos se ha vuelto a mostrar implacable en su oposición al Gobierno del Partido Popular. Apenas unas semanas después de que saltase el escándalo sobre las presuntas irregularidades del máster de Cristina Cifuentes en la Universidad Rey Juan Carlos, el portavoz regional de Ciudadanos, Ignacio Aguado, ha exigido la dimisión de la presidenta para el año que viene sin falta, en cuanto se celebren las elecciones autonómicas de Madrid. Tras dar por vencido el ultimátum dado al PP para que apoye la creación de una comisión de investigación, Aguado se ha mostrado firme y ha dado un nuevo ultimátum amenazando con dar más ultimátums. “Estamos dispuestos a darles todos los ultimátums que hagan falta, no nos va a temblar el pulso”, ha dicho con contundencia. Para Albert Rivera, líder de la formación, “la situación es insostenible y el año que viene, cuando se celebren elecciones, Cristina Cifuentes se tiene que marchar”. De esta manera, la dirección nacional de Ciudadanos quiere demostrar su compromiso de limpiar de corrupción el partido en el Gobierno. “A no ser que Cifuentes sea la más votada en los comicios, no vamos a permitir que siga en su puesto”, ha declarado con severidad. “Al final esto es una democracia y es el pueblo el que decide, pero no le vamos a pasar ni una”, ha añadido. Desde la formación naranja han amenazado incluso con proponer un candidato alternativo para presidir la Comunidad de Madrid. “Creemos que C. Cifuentes sería la persona adecuada para el puesto porque tiene la preparación necesaria para relevar a la actual presidenta y limpiar Madrid de corrupción”, ha dicho Albert Rivera a la prensa.\n"
          ]
        }
      ]
    },
    {
      "cell_type": "markdown",
      "source": [
        "### **1. Ejercicios de Nomalización:**\n",
        "\n",
        "* Dada una lista en la que cada elemento de la misma tiene el contenido (título + texto) de cada documento del corpus se pide:\n",
        "<span></span><br><br>\n",
        "    1. **Crear una función que devuelva los documentos *Tokenizados* (una lista de listas) y con los tokens (palabras) en minúsculas.**\n",
        "        * **input**: lista de documentos (lista de Strings).\n",
        "        * **output**: lista de listas, en la que cada lista contiene los tokens del documento.\n",
        "<span></span><br><br>\n",
        "    2. **Crear una función que elimine los tokens que sean signos de puntuación y *Stop-Words*.**\n",
        "        * **input**: lista de listas, en la que cada lista contiene los tokens del documento.\n",
        "        * **output**: lista de listas, en la que cada lista contiene los tokens del documento.\n",
        "<span></span><br><br>\n",
        "    3. **Crear una función que transforme cada token a su lema (*Lematización*)**\n",
        "        * **input**: lista de listas, en la que cada lista contiene los tokens del documento.\n",
        "        * **output**: lista de listas, en la que cada lista contiene los tokens del documento.\n",
        "<span></span><br><br>\n",
        "    4. **Crear una función que elimine todos los tokens que no sean *Nombres* (NOUN, PROPN), *Verbos*, *Advervios* o *Adjetivos*.**\n",
        "        * **input**: lista de listas, en la que cada lista contiene los tokens del documento.\n",
        "        * **output**: lista de listas, en la que cada lista contiene los tokens del documento.\n",
        " <span></span><br><br>       \n",
        "    5. **Función que dada una lista de documentos, devuelva los documentos normalizados. Este ejercicio ya esta hecho y simplemente tiene que funcionar llamando a las 4 funciones anteriores.**\n",
        "        * **input**: lista de documentos (lista de Strings).\n",
        "        * **output**: lista de listas, en la que cada lista contiene los tokens del documento normalizados.\n",
        "\n"
      ],
      "metadata": {
        "id": "fkb_vYLuyxGD"
      }
    },
    {
      "cell_type": "markdown",
      "source": [
        "### **2. Ejercicios de BoW:**\n",
        "\n",
        "* Aprovechando la normalización realizada anteriormente se pide:\n",
        "\n",
        "    6. **Crear una función que dada una lista de documentos (*corpus*) tokenizados, elimine del corpus aquellos tokens que aparecen menos de 'N' veces (N=10) en el corpus**\n",
        "        * **input**: lista de listas, en la que cada lista contiene los tokens del documento normalizados.\n",
        "        * **input**: 'N' -> Parámetro que nos indica el número mínimo de apariciones de la palabra en el corpus.\n",
        "        * **output**: lista de terminos con nro de apariciones de los que tengan mas o igual a N apariciones.\n",
        "<span></span><br><br>\n",
        "    7. **Dado el corpus, normalizado y con tokens que aparecen N veces o más en el corpus, se pide crear una bolsa de palabras en ONE-HOT-ENCODE con Gensim**\n",
        "<span></span><br><br>   \n",
        "    8. **Dado el corpus, normalizado y con tokens que aparecen N veces o más en el corpus, se pide crear una bolsa de palabras aplicando el TF-IDF con Scikit**\n",
        "    \n",
        "<hr>"
      ],
      "metadata": {
        "id": "toJg7NzEy5iA"
      }
    },
    {
      "cell_type": "markdown",
      "metadata": {
        "id": "cAfEEthA6DOX"
      },
      "source": [
        "### **1. Ejercicios de Nomalización (solución):**\n",
        "\n",
        "* Leemos el corpus y pasamos los documentos (Título + Texto) a una lista"
      ]
    },
    {
      "cell_type": "code",
      "execution_count": 6,
      "metadata": {
        "id": "5SFRfuVd6DOX",
        "colab": {
          "base_uri": "https://localhost:8080/"
        },
        "outputId": "fe64e8da-b03e-49cc-9faa-5d3ba17a2b18"
      },
      "outputs": [
        {
          "output_type": "stream",
          "name": "stdout",
          "text": [
            "El Gobierno español sumará a Junqueras las condenas que no vaya a cumplir Puigdemont Después del revés recibido por el Gobierno de España tras la puesta en libertad de Carles Puigdemont por parte de la justicia alemana, el juez Pablo Llarena ha decidido esta semana, a instancias del Ejecutivo, que sumará a Oriol Junqueras las condenas que no vaya a cumplir el líder del PDeCAT. El exvicepresidente de Cataluña, que permanece en la prisión madrileña de Estremera desde el pasado dos de noviembre, asumiría por tanto todos los delitos atribuidos a Carles Puigdemont y, de esta manera, el Tribunal Supremo se asegura de que los actos del expresidente catalán durante la última legislatura no quedan impunes, ya que “Junqueras pagará por todos y cada uno de ellos”. Con esta maniobra ideada para burlar la justicia alemana, el líder de Esquerra Republicana se enfrenta a 50 años más de prisión. “Seguiremos adelante aunque a Junqueras le caigan cien años más, nadie nos va a parar”, ha dicho hoy Carles Puigdemont desde Alemania. “Haré lo que tenga que hacer y si Junqueras se tiene que sacrificar por ello, lo asumiré con resignación y determinación”, ha prometido. “Seguim!”, tuiteaba poco después de trascender la decisión de Llarena. Según fuentes anónimas del poder judicial, se está barajando también la posibilidad de añadir a la pena de Oriol Junqueras las condenas que puedan imponerse en el futuro a Iñaki Urdangarin, Rodrigo Rato o Esperanza Aguirre, entre otros, así como la de un delito de robo con fuerza ocurrido hace una semana en Huesca y del que la policía ha sido incapaz de encontrar al culpable.\n",
            "Ciudadanos exige la dimisión de Cifuentes el año que viene sin falta, cuando haya elecciones Ciudadanos se ha vuelto a mostrar implacable en su oposición al Gobierno del Partido Popular. Apenas unas semanas después de que saltase el escándalo sobre las presuntas irregularidades del máster de Cristina Cifuentes en la Universidad Rey Juan Carlos, el portavoz regional de Ciudadanos, Ignacio Aguado, ha exigido la dimisión de la presidenta para el año que viene sin falta, en cuanto se celebren las elecciones autonómicas de Madrid. Tras dar por vencido el ultimátum dado al PP para que apoye la creación de una comisión de investigación, Aguado se ha mostrado firme y ha dado un nuevo ultimátum amenazando con dar más ultimátums. “Estamos dispuestos a darles todos los ultimátums que hagan falta, no nos va a temblar el pulso”, ha dicho con contundencia. Para Albert Rivera, líder de la formación, “la situación es insostenible y el año que viene, cuando se celebren elecciones, Cristina Cifuentes se tiene que marchar”. De esta manera, la dirección nacional de Ciudadanos quiere demostrar su compromiso de limpiar de corrupción el partido en el Gobierno. “A no ser que Cifuentes sea la más votada en los comicios, no vamos a permitir que siga en su puesto”, ha declarado con severidad. “Al final esto es una democracia y es el pueblo el que decide, pero no le vamos a pasar ni una”, ha añadido. Desde la formación naranja han amenazado incluso con proponer un candidato alternativo para presidir la Comunidad de Madrid. “Creemos que C. Cifuentes sería la persona adecuada para el puesto porque tiene la preparación necesaria para relevar a la actual presidenta y limpiar Madrid de corrupción”, ha dicho Albert Rivera a la prensa.\n"
          ]
        }
      ],
      "source": [
        "# Ruta del archivo CSV que contiene los documentos.\n",
        "docs_file = './corpus_mundo_today.csv'\n",
        "\n",
        "# Lista para almacenar los documentos.\n",
        "docs_list = list()\n",
        "\n",
        "# Abrir el archivo CSV y leer su contenido.\n",
        "file_txt = open(docs_file, encoding=\"utf8\").read()\n",
        "\n",
        "# Iterar sobre cada línea del archivo CSV.\n",
        "for line in file_txt.split('\\n'):\n",
        "    # Dividir la línea en columnas usando '||' como delimitador.\n",
        "    line = line.split('||')\n",
        "    # Concatenar el título (columna 1) y el contenido (columna 2) del documento y agregarlo a la lista de documentos.\n",
        "    docs_list.append(line[1] + ' ' + line[2])\n",
        "\n",
        "# Eliminar la primera entrada de la lista (cabecera del archivo CSV).\n",
        "docs_list = docs_list[1:]\n",
        "\n",
        "# visualizar los primeros documentos\n",
        "for doc in docs_list[:2]:\n",
        "    print(doc)"
      ]
    },
    {
      "cell_type": "markdown",
      "metadata": {
        "id": "dy3LFI6B6DOZ"
      },
      "source": [
        "#### **Ejercicio 1**\n",
        "**Crear una función que devuelva los documentos *Tokenizados* (una lista de listas) y con los tokens (palabras) en minúsculas.**\n",
        "\n",
        "* **input**: lista de documentos (lista de Strings).\n",
        "* **output**: lista de listas, en la que cada lista contiene los tokens del documento."
      ]
    },
    {
      "cell_type": "code",
      "source": [
        "!python -m spacy download es_core_news_sm"
      ],
      "metadata": {
        "colab": {
          "base_uri": "https://localhost:8080/"
        },
        "id": "Q7NcnBRfdzTb",
        "outputId": "ec10519d-5ed1-476a-d1eb-41062a3078ad"
      },
      "execution_count": 10,
      "outputs": [
        {
          "output_type": "stream",
          "name": "stdout",
          "text": [
            "Collecting es-core-news-sm==3.8.0\n",
            "  Downloading https://github.com/explosion/spacy-models/releases/download/es_core_news_sm-3.8.0/es_core_news_sm-3.8.0-py3-none-any.whl (12.9 MB)\n",
            "\u001b[2K     \u001b[90m━━━━━━━━━━━━━━━━━━━━━━━━━━━━━━━━━━━━━━━━\u001b[0m \u001b[32m12.9/12.9 MB\u001b[0m \u001b[31m90.1 MB/s\u001b[0m eta \u001b[36m0:00:00\u001b[0m\n",
            "\u001b[?25hInstalling collected packages: es-core-news-sm\n",
            "Successfully installed es-core-news-sm-3.8.0\n",
            "\u001b[38;5;2m✔ Download and installation successful\u001b[0m\n",
            "You can now load the package via spacy.load('es_core_news_sm')\n",
            "\u001b[38;5;3m⚠ Restart to reload dependencies\u001b[0m\n",
            "If you are in a Jupyter or Colab notebook, you may need to restart Python in\n",
            "order to load all the package's dependencies. You can do this by selecting the\n",
            "'Restart kernel' or 'Restart runtime' option.\n"
          ]
        }
      ]
    },
    {
      "cell_type": "code",
      "execution_count": 19,
      "metadata": {
        "id": "9uiYrWMQ6DOZ",
        "colab": {
          "base_uri": "https://localhost:8080/"
        },
        "outputId": "a1f64382-0600-4492-ecf4-d3f4399bc2f6"
      },
      "outputs": [
        {
          "output_type": "stream",
          "name": "stdout",
          "text": [
            "Corpus tokenizado (primeros 3 documentos):\n",
            "\n",
            "Documento 1: ['el', 'gobierno', 'español', 'sumará', 'a', 'junqueras', 'las', 'condenas', 'que', 'no', 'vaya', 'a', 'cumplir', 'puigdemont', 'después', 'del', 'revés', 'recibido', 'por', 'el', 'gobierno', 'de', 'españa', 'tras', 'la', 'puesta', 'en', 'libertad', 'de', 'carles', 'puigdemont', 'por', 'parte', 'de', 'la', 'justicia', 'alemana', ',', 'el', 'juez', 'pablo', 'llarena', 'ha', 'decidido', 'esta', 'semana', ',', 'a', 'instancias', 'del', 'ejecutivo', ',', 'que', 'sumará', 'a', 'oriol', 'junqueras', 'las', 'condenas', 'que', 'no', 'vaya', 'a', 'cumplir', 'el', 'líder', 'del', 'pdecat', '.', 'el', 'exvicepresidente', 'de', 'cataluña', ',', 'que', 'permanece', 'en', 'la', 'prisión', 'madrileña', 'de', 'estremera', 'desde', 'el', 'pasado', 'dos', 'de', 'noviembre', ',', 'asumiría', 'por', 'tanto', 'todos', 'los', 'delitos', 'atribuidos', 'a', 'carles', 'puigdemont', 'y', ',', 'de', 'esta', 'manera', ',', 'el', 'tribunal', 'supremo', 'se', 'asegura', 'de', 'que', 'los', 'actos', 'del', 'expresidente', 'catalán', 'durante', 'la', 'última', 'legislatura', 'no', 'quedan', 'impunes', ',', 'ya', 'que', '“', 'junqueras', 'pagará', 'por', 'todos', 'y', 'cada', 'uno', 'de', 'ellos', '”', '.', 'con', 'esta', 'maniobra', 'ideada', 'para', 'burlar', 'la', 'justicia', 'alemana', ',', 'el', 'líder', 'de', 'esquerra', 'republicana', 'se', 'enfrenta', 'a', '50', 'años', 'más', 'de', 'prisión', '.', '“', 'seguiremos', 'adelante', 'aunque', 'a', 'junqueras', 'le', 'caigan', 'cien', 'años', 'más', ',', 'nadie', 'nos', 'va', 'a', 'parar', '”', ',', 'ha', 'dicho', 'hoy', 'carles', 'puigdemont', 'desde', 'alemania', '.', '“', 'haré', 'lo', 'que', 'tenga', 'que', 'hacer', 'y', 'si', 'junqueras', 'se', 'tiene', 'que', 'sacrificar', 'por', 'ello', ',', 'lo', 'asumiré', 'con', 'resignación', 'y', 'determinación', '”', ',', 'ha', 'prometido', '.', '“', 'seguim', '!', '”', ',', 'tuiteaba', 'poco', 'después', 'de', 'trascender', 'la', 'decisión', 'de', 'llarena', '.', 'según', 'fuentes', 'anónimas', 'del', 'poder', 'judicial', ',', 'se', 'está', 'barajando', 'también', 'la', 'posibilidad', 'de', 'añadir', 'a', 'la', 'pena', 'de', 'oriol', 'junqueras', 'las', 'condenas', 'que', 'puedan', 'imponerse', 'en', 'el', 'futuro', 'a', 'iñaki', 'urdangarin', ',', 'rodrigo', 'rato', 'o', 'esperanza', 'aguirre', ',', 'entre', 'otros', ',', 'así', 'como', 'la', 'de', 'un', 'delito', 'de', 'robo', 'con', 'fuerza', 'ocurrido', 'hace', 'una', 'semana', 'en', 'huesca', 'y', 'del', 'que', 'la', 'policía', 'ha', 'sido', 'incapaz', 'de', 'encontrar', 'al', 'culpable', '.']\n",
            "\n",
            "Documento 2: ['ciudadanos', 'exige', 'la', 'dimisión', 'de', 'cifuentes', 'el', 'año', 'que', 'viene', 'sin', 'falta', ',', 'cuando', 'haya', 'elecciones', 'ciudadanos', 'se', 'ha', 'vuelto', 'a', 'mostrar', 'implacable', 'en', 'su', 'oposición', 'al', 'gobierno', 'del', 'partido', 'popular', '.', 'apenas', 'unas', 'semanas', 'después', 'de', 'que', 'saltase', 'el', 'escándalo', 'sobre', 'las', 'presuntas', 'irregularidades', 'del', 'máster', 'de', 'cristina', 'cifuentes', 'en', 'la', 'universidad', 'rey', 'juan', 'carlos', ',', 'el', 'portavoz', 'regional', 'de', 'ciudadanos', ',', 'ignacio', 'aguado', ',', 'ha', 'exigido', 'la', 'dimisión', 'de', 'la', 'presidenta', 'para', 'el', 'año', 'que', 'viene', 'sin', 'falta', ',', 'en', 'cuanto', 'se', 'celebren', 'las', 'elecciones', 'autonómicas', 'de', 'madrid', '.', 'tras', 'dar', 'por', 'vencido', 'el', 'ultimátum', 'dado', 'al', 'pp', 'para', 'que', 'apoye', 'la', 'creación', 'de', 'una', 'comisión', 'de', 'investigación', ',', 'aguado', 'se', 'ha', 'mostrado', 'firme', 'y', 'ha', 'dado', 'un', 'nuevo', 'ultimátum', 'amenazando', 'con', 'dar', 'más', 'ultimátums', '.', '“', 'estamos', 'dispuestos', 'a', 'darles', 'todos', 'los', 'ultimátums', 'que', 'hagan', 'falta', ',', 'no', 'nos', 'va', 'a', 'temblar', 'el', 'pulso', '”', ',', 'ha', 'dicho', 'con', 'contundencia', '.', 'para', 'albert', 'rivera', ',', 'líder', 'de', 'la', 'formación', ',', '“', 'la', 'situación', 'es', 'insostenible', 'y', 'el', 'año', 'que', 'viene', ',', 'cuando', 'se', 'celebren', 'elecciones', ',', 'cristina', 'cifuentes', 'se', 'tiene', 'que', 'marchar', '”', '.', 'de', 'esta', 'manera', ',', 'la', 'dirección', 'nacional', 'de', 'ciudadanos', 'quiere', 'demostrar', 'su', 'compromiso', 'de', 'limpiar', 'de', 'corrupción', 'el', 'partido', 'en', 'el', 'gobierno', '.', '“', 'a', 'no', 'ser', 'que', 'cifuentes', 'sea', 'la', 'más', 'votada', 'en', 'los', 'comicios', ',', 'no', 'vamos', 'a', 'permitir', 'que', 'siga', 'en', 'su', 'puesto', '”', ',', 'ha', 'declarado', 'con', 'severidad', '.', '“', 'al', 'final', 'esto', 'es', 'una', 'democracia', 'y', 'es', 'el', 'pueblo', 'el', 'que', 'decide', ',', 'pero', 'no', 'le', 'vamos', 'a', 'pasar', 'ni', 'una', '”', ',', 'ha', 'añadido', '.', 'desde', 'la', 'formación', 'naranja', 'han', 'amenazado', 'incluso', 'con', 'proponer', 'un', 'candidato', 'alternativo', 'para', 'presidir', 'la', 'comunidad', 'de', 'madrid', '.', '“', 'creemos', 'que', 'c.', 'cifuentes', 'sería', 'la', 'persona', 'adecuada', 'para', 'el', 'puesto', 'porque', 'tiene', 'la', 'preparación', 'necesaria', 'para', 'relevar', 'a', 'la', 'actual', 'presidenta', 'y', 'limpiar', 'madrid', 'de', 'corrupción', '”', ',', 'ha', 'dicho', 'albert', 'rivera', 'a', 'la', 'prensa', '.']\n",
            "\n",
            "Documento 3: ['mariano', 'rajoy', 'admite', 'que', 'incluyó', 'la', 'presidencia', 'de', 'españa', 'en', 'su', 'curriculum', 'pero', 'no', 'recuerda', 'haber', 'hecho', 'nada', 'el', 'líder', 'del', 'partido', 'popular', ',', 'mariano', 'rajoy', ',', 'ha', 'reconocido', 'esta', 'tarde', 'que', 'en', 'el', 'curriculum', 'que', 'figura', 'en', 'la', 'página', 'web', 'oficial', 'de', 'su', 'partido', 'aparece', 'la', 'presidencia', 'de', 'españa', 'como', 'una', 'de', 'sus', 'ocupaciones', '.', '“', 'no', 'lo', 'recuerdo', ',', 'sinceramente', ',', 'puede', 'ser', 'que', 'esté', '”', ',', 'ha', 'admitido', 'ante', 'la', 'prensa', ',', 'quitando', 'hierro', 'tanto', 'a', 'este', 'asunto', 'como', 'a', 'la', 'polémica', 'del', 'máster', 'que', 'habrían', 'obtenido', 'de', 'forma', 'irregular', 'cristina', 'cifuentes', 'y', 'también', ',', 'según', 'se', 'ha', 'sabido', 'más', 'tarde', ',', 'el', 'vicesecretario', 'de', 'comunicación', 'del', 'pp', ',', 'pablo', 'casado', '.', '“', 'fue', 'hace', 'años', ',', 'no', 'es', 'algo', 'a', 'lo', 'que', 'yo', 'dedique', 'mi', 'tiempo', ',', 'sinceramente', '”', ',', 'ha', 'insistido', 'en', 'relación', 'a', 'la', 'presidencia', 'del', 'país', '.', '“', 'esto', 'es', 'un', 'equipo', 'de', 'gente', ',', 'todos', 'hacemos', 'cosas', 'y', 'nadie', 'conserva', 'todos', 'los', 'documentos', 'de', 'todo', ',', 'como', 'comprenderá', '.', 'no', 'tiene', 'sentido', 'ponerse', 'a', 'mirar', 'si', 'este', 'presidió', 'esto', 'o', 'lo', 'otro', 'en', 'tal', 'o', 'cual', 'año', ',', 'centrémonos', 'en', 'lo', 'que', 'toca', ',', 'no', 'en', 'polémicas', 'absurdas', 'que', 'nos', 'distraen', 'de', 'los', 'asuntos', 'verdaderamente', 'serios', 'y', 'verdaderamente', 'importantes', '”', ',', 'ha', 'argumentado', 'rajoy', '.', 'ante', 'la', 'insistencia', 'de', 'los', 'periodistas', ',', 'el', 'político', 'popular', 'ha', 'precisado', 'que', '“', 'lo', 'de', 'la', 'presidencia', 'no', 'lo', 'sé', ',', 'pero', 'lo', 'que', 'sí', 'les', 'puedo', 'decir', 'es', 'que', ',', 'de', 'joven', ',', 'los', 'sábados', 'por', 'la', 'tarde', ',', 'jugaba', 'al', 'baloncesto', ',', 'en', 'la', 'liga', 'de', 'colegios', ',', 'y', 'el', 'domingo', 'por', 'la', 'mañana', 'la', 'liga', 'de', 'empresas', ',', 'aunque', 'éramos', 'los', 'mismos', 'que', 'los', 'de', 'la', 'liga', 'de', 'colegios', 'pero', 'con', 'otro', 'nombre', '.', 'todo', 'esto', 'mientras', 'estudiaba', 'en', 'los', 'jesuitas', '.', 'de', 'esta', 'época', 'sí', 'me', 'acuerdo', 'bien', '”', '.', 'aunque', 'se', 'ha', 'negado', 'a', 'demostrar', 'con', 'pruebas', 'documentales', 'que', 'tiene', 'algo', 'que', 'ver', 'con', 'el', 'gobierno', 'de', 'la', 'nación', ',', 'rajoy', 'sí', 'se', 'ha', 'ofrecido', 'a', 'aportar', 'archivos', 'que', ',', 'supuestamente', ',', 'probarían', 'que', 'durante', 'el', 'mandato', 'de', 'josé', 'maría', 'aznar', 'ocupó', 'diversas', 'carteras', '.', '“', 'entre', '1996', 'y', '2003', 'ya', 'estaba', 'por', 'aquí', ',', 'en', 'administraciones', 'públicas', ',', 'creo', 'que', 'también', 'en', 'la', 'vicepresidencia', 'y', 'diría', 'incluso', 'que', 'en', 'interior', ',', 'aunque', 'no', 'sé', 'si', 'al', 'final', 'estuvo', 'solo', 'jaime', 'o', 'nos', 'turnamos', '.', 'tengo', 'un', 'cenicero', 'de', 'plata', 'que', 'es', 'precisamente', 'de', 'aquella', 'época', '.', 'les', 'puedo', 'asegurar', 'que', 'algo', 'hice', 'y', 'de', 'vez', 'en', 'cuando', 'voy', 'a', 'las', 'cortes', 'y', 'si', 'no', 'se', 'lo', 'creen', 'pregunten', ',', 'allí', 'me', 'conoce', 'todo', 'el', 'mundo', '”', ',', 'ha', 'asegurado', ',', 'reiterando', 'que', '“', 'en', 'cuanto', 'a', 'lo', 'de', 'la', 'presidencia', 'no', 'pondría', 'yo', 'la', 'mano', 'en', 'el', 'fuego', '”', '.', 'al', 'ser', 'preguntados', ',', 'los', 'ciudadanos', 'españoles', 'tampoco', 'han', 'podido', 'confirmar', 'que', 'mariano', 'rajoy', 'les', 'preside', '.']\n",
            "\n"
          ]
        }
      ],
      "source": [
        "import spacy\n",
        "\n",
        "# Cargar el modelo de spaCy en español\n",
        "nlp = spacy.load(\"es_core_news_sm\")\n",
        "\n",
        "def tokenization(docs_list):\n",
        "    tokenized_docs = []\n",
        "    for doc in docs_list:\n",
        "        spacy_doc = nlp(doc)\n",
        "        tokens = [token.text.lower() for token in spacy_doc]\n",
        "        tokenized_docs.append(tokens)\n",
        "    return tokenized_docs\n",
        "\n",
        "# Probar con docs_list ya creado en el contexto\n",
        "corpus = tokenization(docs_list)\n",
        "\n",
        "print(\"Corpus tokenizado (primeros 3 documentos):\\n\")\n",
        "for i, tokens in enumerate(corpus[:3]):\n",
        "    print(f\"Documento {i+1}: {tokens}\\n\")"
      ]
    },
    {
      "cell_type": "markdown",
      "metadata": {
        "id": "Gd7dFVZx6DOa"
      },
      "source": [
        "#### **Ejercicio 2**\n",
        "**Crear una función que elimine los tokens que sean signos de puntuación y *Stop-Words*.**\n",
        "\n",
        "* **input**: lista de listas, en la que cada lista contiene los tokens del documento.\n",
        "* **output**: lista de listas, en la que cada lista contiene los tokens del documento."
      ]
    },
    {
      "cell_type": "code",
      "execution_count": 20,
      "metadata": {
        "id": "1dAEXGR_6DOa",
        "colab": {
          "base_uri": "https://localhost:8080/"
        },
        "outputId": "1a50af5f-3d3e-4170-90cd-2eee169fdbef"
      },
      "outputs": [
        {
          "output_type": "stream",
          "name": "stdout",
          "text": [
            "Corpus sin puntuación ni stopwords (primeros 3 documentos):\n",
            "\n",
            "Documento 1: ['gobierno', 'español', 'sumará', 'junqueras', 'condenas', 'cumplir', 'puigdemont', 'revés', 'recibido', 'gobierno', 'españa', 'puesta', 'libertad', 'carles', 'puigdemont', 'justicia', 'alemana', 'juez', 'pablo', 'llarena', 'decidido', 'semana', 'instancias', 'ejecutivo', 'sumará', 'oriol', 'junqueras', 'condenas', 'cumplir', 'líder', 'pdecat', 'exvicepresidente', 'cataluña', 'permanece', 'prisión', 'madrileña', 'estremera', 'noviembre', 'asumiría', 'delitos', 'atribuidos', 'carles', 'puigdemont', 'tribunal', 'supremo', 'asegura', 'actos', 'expresidente', 'catalán', 'legislatura', 'quedan', 'impunes', '“', 'junqueras', 'pagará', '”', 'maniobra', 'ideada', 'burlar', 'justicia', 'alemana', 'líder', 'esquerra', 'republicana', 'enfrenta', '50', 'años', 'prisión', '“', 'seguiremos', 'junqueras', 'caigan', 'cien', 'años', 'parar', '”', 'carles', 'puigdemont', 'alemania', '“', 'haré', 'junqueras', 'sacrificar', 'asumiré', 'resignación', 'determinación', '”', 'prometido', '“', 'seguim', '”', 'tuiteaba', 'trascender', 'decisión', 'llarena', 'fuentes', 'anónimas', 'judicial', 'barajando', 'posibilidad', 'añadir', 'pena', 'oriol', 'junqueras', 'condenas', 'puedan', 'imponerse', 'futuro', 'iñaki', 'urdangarin', 'rodrigo', 'rato', 'esperanza', 'aguirre', 'delito', 'robo', 'fuerza', 'ocurrido', 'semana', 'huesca', 'policía', 'incapaz', 'encontrar', 'culpable']\n",
            "\n",
            "Documento 2: ['ciudadanos', 'exige', 'dimisión', 'cifuentes', 'año', 'viene', 'falta', 'elecciones', 'ciudadanos', 'vuelto', 'mostrar', 'implacable', 'oposición', 'gobierno', 'partido', 'popular', 'semanas', 'saltase', 'escándalo', 'presuntas', 'irregularidades', 'máster', 'cristina', 'cifuentes', 'universidad', 'rey', 'juan', 'carlos', 'portavoz', 'regional', 'ciudadanos', 'ignacio', 'aguado', 'exigido', 'dimisión', 'presidenta', 'año', 'viene', 'falta', 'celebren', 'elecciones', 'autonómicas', 'madrid', 'vencido', 'ultimátum', 'pp', 'apoye', 'creación', 'comisión', 'investigación', 'aguado', 'mostrado', 'firme', 'ultimátum', 'amenazando', 'ultimátums', '“', 'dispuestos', 'darles', 'ultimátums', 'hagan', 'falta', 'temblar', 'pulso', '”', 'contundencia', 'albert', 'rivera', 'líder', 'formación', '“', 'situación', 'insostenible', 'año', 'viene', 'celebren', 'elecciones', 'cristina', 'cifuentes', 'marchar', '”', 'dirección', 'nacional', 'ciudadanos', 'demostrar', 'compromiso', 'limpiar', 'corrupción', 'partido', 'gobierno', '“', 'cifuentes', 'votada', 'comicios', 'permitir', 'siga', 'puesto', '”', 'declarado', 'severidad', '“', 'democracia', 'pueblo', 'decide', 'pasar', '”', 'añadido', 'formación', 'naranja', 'amenazado', 'proponer', 'candidato', 'alternativo', 'presidir', 'comunidad', 'madrid', '“', 'creemos', 'c.', 'cifuentes', 'persona', 'adecuada', 'puesto', 'preparación', 'necesaria', 'relevar', 'actual', 'presidenta', 'limpiar', 'madrid', 'corrupción', '”', 'albert', 'rivera', 'prensa']\n",
            "\n",
            "Documento 3: ['mariano', 'rajoy', 'admite', 'incluyó', 'presidencia', 'españa', 'curriculum', 'recuerda', 'líder', 'partido', 'popular', 'mariano', 'rajoy', 'reconocido', 'curriculum', 'figura', 'página', 'web', 'oficial', 'partido', 'aparece', 'presidencia', 'españa', 'ocupaciones', '“', 'recuerdo', 'sinceramente', 'esté', '”', 'admitido', 'prensa', 'quitando', 'hierro', 'asunto', 'polémica', 'máster', 'habrían', 'obtenido', 'forma', 'irregular', 'cristina', 'cifuentes', 'sabido', 'vicesecretario', 'comunicación', 'pp', 'pablo', 'casado', '“', 'años', 'dedique', 'tiempo', 'sinceramente', '”', 'insistido', 'relación', 'presidencia', 'país', '“', 'equipo', 'gente', 'cosas', 'conserva', 'documentos', 'comprenderá', 'sentido', 'ponerse', 'mirar', 'presidió', 'año', 'centrémonos', 'toca', 'polémicas', 'absurdas', 'distraen', 'asuntos', 'verdaderamente', 'serios', 'verdaderamente', 'importantes', '”', 'argumentado', 'rajoy', 'insistencia', 'periodistas', 'político', 'popular', 'precisado', '“', 'presidencia', 'joven', 'sábados', 'jugaba', 'baloncesto', 'liga', 'colegios', 'domingo', 'mañana', 'liga', 'empresas', 'éramos', 'liga', 'colegios', 'nombre', 'estudiaba', 'jesuitas', 'época', '”', 'negado', 'demostrar', 'pruebas', 'documentales', 'gobierno', 'nación', 'rajoy', 'ofrecido', 'aportar', 'archivos', 'supuestamente', 'probarían', 'mandato', 'josé', 'maría', 'aznar', 'ocupó', 'diversas', 'carteras', '“', '1996', '2003', 'administraciones', 'públicas', 'vicepresidencia', 'diría', 'interior', 'jaime', 'turnamos', 'cenicero', 'plata', 'precisamente', 'época', 'asegurar', 'hice', 'cortes', 'creen', 'pregunten', 'conoce', 'mundo', '”', 'asegurado', 'reiterando', '“', 'presidencia', 'pondría', 'mano', 'fuego', '”', 'preguntados', 'ciudadanos', 'españoles', 'podido', 'confirmar', 'mariano', 'rajoy', 'preside']\n",
            "\n"
          ]
        }
      ],
      "source": [
        "import string\n",
        "\n",
        "def remove_words(docs):\n",
        "    cleaned_docs = []\n",
        "    for doc in docs:\n",
        "        tokens = [token for token in doc if token not in string.punctuation and not nlp.vocab[token].is_stop]\n",
        "        cleaned_docs.append(tokens)\n",
        "    return cleaned_docs\n",
        "\n",
        "# Probar con el corpus del Ejercicio 1\n",
        "corpus_clean = remove_words(corpus)\n",
        "\n",
        "print(\"Corpus sin puntuación ni stopwords (primeros 3 documentos):\\n\")\n",
        "for i, tokens in enumerate(corpus_clean[:3]):\n",
        "    print(f\"Documento {i+1}: {tokens}\\n\")"
      ]
    },
    {
      "cell_type": "markdown",
      "metadata": {
        "id": "n8pGnLbW6DOb"
      },
      "source": [
        "#### **Ejercicio 3**\n",
        "**Crear una función que transforme cada token a su lema (*Lematización*)**\n",
        "\n",
        "* **input**: lista de listas, en la que cada lista contiene los tokens del documento.\n",
        "* **output**: lista de listas, en la que cada lista contiene los tokens del documento."
      ]
    },
    {
      "cell_type": "code",
      "execution_count": 21,
      "metadata": {
        "id": "kTFcrUsW6DOb",
        "colab": {
          "base_uri": "https://localhost:8080/"
        },
        "outputId": "5cfdf939-aa59-48cf-f55d-e24b70ac2a47"
      },
      "outputs": [
        {
          "output_type": "stream",
          "name": "stdout",
          "text": [
            "Corpus lematizado (primeros 3 documentos):\n",
            "\n",
            "Documento 1: ['gobierno', 'español', 'sumar', 'junquera', 'condena', 'cumplir', 'puigdemont', 'revés', 'recibido', 'gobierno', 'españa', 'puesta', 'libertad', 'carles', 'puigdemont', 'justicia', 'alemán', 'juez', 'pablo', 'llarena', 'decidido', 'semana', 'instancia', 'ejecutivo', 'sumar', 'oriol', 'junquera', 'condena', 'cumplir', 'líder', 'pdecat', 'exvicepresidente', 'cataluña', 'permanecer', 'prisión', 'madrileño', 'estremero', 'noviembre', 'asumir', 'delito', 'atribuido', 'carl', 'puigdemont', 'tribunal', 'supremo', 'asegurar', 'acto', 'expresidente', 'catalán', 'legislaturar', 'quedar', 'impún', '“', 'junquera', 'pagar', '”', 'maniobra', 'ideado', 'burlar', 'justicia', 'alemán', 'líder', 'esquerro', 'republicano', 'enfrentar', '50', 'año', 'prisión', '“', 'seguir', 'junquera', 'caer', 'cien', 'año', 'parar', '”', 'carles', 'puigdemont', 'alemania', '“', 'hacer', 'junquera', 'sacrificar', 'asumiré', 'resignación', 'determinación', '”', 'prometido', '“', 'seguim', '”', 'tuitear', 'trascender', 'decisión', 'llarén', 'fuente', 'anónimo', 'judicial', 'barajar', 'posibilidad', 'añadir', 'pena', 'oriol', 'junquera', 'condena', 'poder', 'imponer él', 'futuro', 'iñaki', 'urdangarin', 'rodrigo', 'rato', 'esperanzar', 'aguirre', 'delito', 'robo', 'fuerza', 'ocurrido', 'semana', 'huesca', 'policía', 'incapaz', 'encontrar', 'culpable']\n",
            "\n",
            "Documento 2: ['ciudadano', 'exigir', 'dimisión', 'cifuent', 'año', 'venir', 'falto', 'elección', 'ciudadano', 'vuelto', 'mostrar', 'implacable', 'oposición', 'gobierno', 'partido', 'popular', 'semana', 'saltar', 'escándalo', 'presunto', 'irregularidad', 'máster', 'cristina', 'cifuent', 'universidad', 'rey', 'juan', 'carlos', 'portavoz', 'regional', 'ciudadano', 'ignacio', 'aguado', 'exigido', 'dimisión', 'presidento', 'año', 'venir', 'falta', 'celebrir', 'elección', 'autonómico', 'madrid', 'vencido', 'ultimátum', 'pp', 'apoyar', 'creación', 'comisión', 'investigación', 'aguado', 'mostrado', 'firme', 'ultimátum', 'amenazar', 'ultimátum', '“', 'dispuesto', 'dar él', 'ultimátum', 'hacer', 'falta', 'temblar', 'pulso', '”', 'contundencia', 'albert', 'rivera', 'líder', 'formación', '“', 'situación', 'insostenible', 'año', 'venir', 'celebrir', 'elección', 'cristín', 'cifuent', 'marchar', '”', 'dirección', 'nacional', 'ciudadano', 'demostrar', 'compromiso', 'limpiar', 'corrupción', 'partido', 'gobierno', '“', 'cifuent', 'votado', 'comicio', 'permitir', 'seguir', 'puesto', '”', 'declarado', 'severidad', '“', 'democracia', 'pueblo', 'decidir', 'pasar', '”', 'añadido', 'formación', 'naranja', 'amenazado', 'proponer', 'candidato', 'alternativo', 'presidir', 'comunidad', 'madrid', '“', 'creer', 'c.', 'cifuent', 'persona', 'adecuado', 'puesto', 'preparación', 'necesario', 'relevar', 'actual', 'presidenta', 'limpiar', 'madrid', 'corrupción', '”', 'albert', 'rivero', 'prensa']\n",
            "\n",
            "Documento 3: ['mariano', 'rajoy', 'admite', 'incluir', 'presidencia', 'españa', 'curriculum', 'recordar', 'líder', 'partido', 'popular', 'mariano', 'rajoy', 'reconocido', 'curriculum', 'figura', 'págín', 'web', 'oficial', 'partido', 'aparecer', 'presidencia', 'españa', 'ocupación', '“', 'recordar', 'sinceramente', 'estar', '”', 'admitido', 'prensa', 'quitar', 'hierro', 'asunto', 'polémico', 'máster', 'haber', 'obtener', 'forma', 'irregular', 'cristín', 'cifuent', 'saber', 'vicesecretario', 'comunicación', 'pp', 'pablo', 'casado', '“', 'año', 'dedicar', 'tiempo', 'sinceramente', '”', 'insistido', 'relación', 'presidencia', 'país', '“', 'equipo', 'gente', 'cosa', 'conservar', 'documento', 'comprender', 'sentido', 'poner él', 'mirar', 'presidir', 'año', 'centrémono', 'tocar', 'polémica', 'absurdo', 'distraer', 'asunto', 'verdaderamente', 'serio', 'verdaderamente', 'importante', '”', 'argumentado', 'rajoy', 'insistencia', 'periodista', 'político', 'popular', 'precisado', '“', 'presidencia', 'joven', 'sábado', 'jugar', 'baloncesto', 'ligar', 'colegio', 'domingo', 'mañana', 'ligar', 'empresa', 'ser', 'ligar', 'colegio', 'nombre', 'estudiar', 'jesuita', 'época', '”', 'negado', 'demostrar', 'prueba', 'documental', 'gobierno', 'nación', 'rajoy', 'ofrecido', 'aportar', 'archivo', 'supuestamente', 'probarir', 'mandato', 'josé', 'maría', 'aznar', 'ocupar', 'diverso', 'cartera', '“', '1996', '2003', 'administración', 'público', 'vicepresidencia', 'decir', 'interior', 'jaime', 'turnar', 'cenicero', 'platar', 'precisamente', 'época', 'asegurar', 'hacer', 'corte', 'creer', 'preguntar', 'conocer', 'mundo', '”', 'asegurado', 'reiterar', '“', 'presidencia', 'poner', 'mano', 'fuego', '”', 'preguntado', 'ciudadano', 'español', 'poder', 'confirmar', 'mariano', 'rajoy', 'presidir']\n",
            "\n"
          ]
        }
      ],
      "source": [
        "def lematization(docs):\n",
        "    lemmatized_docs = []\n",
        "    for doc in docs:\n",
        "        spacy_doc = nlp(\" \".join(doc))\n",
        "        tokens = [token.lemma_.lower() for token in spacy_doc]\n",
        "        lemmatized_docs.append(tokens)\n",
        "    return lemmatized_docs\n",
        "\n",
        "# Probar con corpus_clean del Ejercicio 2\n",
        "corpus_lemma = lematization(corpus_clean)\n",
        "\n",
        "print(\"Corpus lematizado (primeros 3 documentos):\\n\")\n",
        "for i, tokens in enumerate(corpus_lemma[:3]):\n",
        "    print(f\"Documento {i+1}: {tokens}\\n\")\n"
      ]
    },
    {
      "cell_type": "markdown",
      "metadata": {
        "id": "4R0ohQYs6DOb"
      },
      "source": [
        "#### **Ejercicio 4**\n",
        "**Crear una función que elimine todos los tokens que no sean *Nombres* (NOUN, PROPN), *Verbos*, *Advervios* o *Adjetivos*.**\n",
        "\n",
        "* **input**: lista de listas, en la que cada lista contiene los tokens del documento.\n",
        "* **output**: lista de listas, en la que cada lista contiene los tokens del documento."
      ]
    },
    {
      "cell_type": "code",
      "execution_count": 22,
      "metadata": {
        "id": "P-6ezQtA6DOc",
        "colab": {
          "base_uri": "https://localhost:8080/"
        },
        "outputId": "bf2494f6-0668-4052-d510-d7e9d416014b"
      },
      "outputs": [
        {
          "output_type": "stream",
          "name": "stdout",
          "text": [
            "Corpus filtrado por POS (primeros 3 documentos):\n",
            "\n",
            "Documento 1: ['gobierno', 'español', 'sumar', 'junquero', 'condena', 'cumplir', 'puigdemont', 'revés', 'recibido', 'gobierno', 'españa', 'puesta', 'libertad', 'carles', 'puigdemont', 'justicia', 'alemán', 'juez', 'pablo', 'llarena', 'decidido', 'semana', 'instancia', 'ejecutivo', 'sumar', 'oriol', 'junquero', 'condena', 'cumplir', 'líder', 'pdecat', 'exvicepresidente', 'cataluña', 'permanecer', 'prisión', 'madrileño', 'estremero', 'noviembre', 'asumir', 'delito', 'atribuido', 'carl', 'puigdemont', 'tribunal', 'supremo', 'asegurar', 'acto', 'expresidente', 'catalán', 'legislaturar', 'quedar', 'impún', '“', 'junquera', 'pagar', 'maniobra', 'ideado', 'burlar', 'justicia', 'alemán', 'líder', 'esquerro', 'republicano', 'enfrentar', 'año', 'prisión', '“', 'seguir', 'junquera', 'caer', 'año', 'parar', '”', 'carles', 'puigdemont', 'alemania', '“', 'hacer', 'junquera', 'sacrificar', 'asumiré', 'resignación', 'determinación', 'prometido', '“', 'seguim', 'tuitear', 'trascender', 'decisión', 'llarén', 'fuente', 'anónimo', 'judicial', 'barajar', 'posibilidad', 'añadir', 'pena', 'oriol', 'junquero', 'condén', 'imponer', 'futuro', 'iñaki', 'urdangarin', 'rodrigo', 'rato', 'esperanzar', 'aguirre', 'delito', 'robo', 'fuerza', 'ocurrido', 'semana', 'huesca', 'policía', 'incapaz', 'encontrar', 'culpable']\n",
            "\n",
            "Documento 2: ['ciudadano', 'exigir', 'dimisión', 'cifuent', 'año', 'venir', 'falto', 'elección', 'ciudadano', 'vuelto', 'mostrar', 'implacable', 'oposición', 'gobierno', 'partido', 'popular', 'semana', 'saltar', 'escándalo', 'presunto', 'irregularidad', 'máster', 'cristina', 'cifuent', 'universidad', 'rey', 'juan', 'carlos', 'portavoz', 'regional', 'ciudadano', 'ignacio', 'aguado', 'exigido', 'dimisión', 'presidento', 'año', 'venir', 'falta', 'celebrir', 'elección', 'autonómico', 'madrid', 'vencido', 'ultimátum', 'pp', 'apoyar', 'creación', 'comisión', 'investigación', 'aguado', 'mostrado', 'firme', 'ultimátum', 'amenazar', 'ultimátum', 'dispuesto', 'dar', 'ultimátum', 'hacer', 'falta', 'temblar', 'pulso', '”', 'contundencia', 'albert', 'rivera', 'líder', 'formación', '“', 'situación', 'insostenible', 'año', 'venir', 'celebrir', 'elección', 'cristín', 'cifuent', 'marchar', 'dirección', 'nacional', 'ciudadano', 'demostrar', 'compromiso', 'limpiar', 'corrupción', 'partido', 'gobierno', '“', 'cifuent', 'votado', 'comicio', 'permitir', 'seguir', 'puesto', 'declarado', 'severidad', '“', 'democracia', 'decidir', 'pasar', '”', 'añadido', 'formación', 'naranja', 'amenazado', 'proponer', 'candidato', 'alternativo', 'presidir', 'comunidad', 'madrid', '“', 'creer', 'c.', 'cifuent', 'persona', 'adecuado', 'puesto', 'preparación', 'necesario', 'relevar', 'actual', 'presidenta', 'limpiar', 'madrid', 'corrupción', '”', 'albert', 'rivero', 'prenso']\n",
            "\n",
            "Documento 3: ['mariano', 'rajoy', 'admitir', 'incluir', 'presidencia', 'españa', 'curriculum', 'recordar', 'líder', 'partido', 'popular', 'mariano', 'rajoy', 'reconocido', 'curriculum', 'figurar', 'págín', 'web', 'oficial', 'partido', 'aparecer', 'presidencia', 'españa', 'ocupación', '“', 'recordar', 'sinceramente', 'admitido', 'prensa', 'quitar', 'hierro', 'asunto', 'polémico', 'máster', 'obtener', 'forma', 'irregular', 'cristín', 'cifuent', 'saber', 'vicesecretario', 'comunicación', 'pp', 'pablo', 'casado', '“', 'año', 'dedicar', 'tiempo', 'sinceramente', '”', 'insistido', 'relación', 'presidencia', 'país', '“', 'equipo', 'gente', 'cosa', 'conservar', 'documento', 'comprender', 'sentido', 'poner', 'mirar', 'presidir', 'año', 'centrémonir', 'tocar', 'polémica', 'absurdo', 'distraer', 'asunto', 'verdaderamente', 'serio', 'verdaderamente', 'importante', 'argumentado', 'rajoy', 'insistencia', 'periodista', 'político', 'popular', 'precisado', '“', 'presidencia', 'joven', 'sábado', 'jugar', 'baloncesto', 'ligar', 'colegio', 'domingo', 'mañana', 'ligar', 'empresa', 'ligar', 'colegio', 'nombre', 'estudiar', 'jesuitar', 'época', 'negado', 'demostrar', 'prueba', 'documental', 'gobierno', 'nación', 'rajoy', 'ofrecido', 'aportar', 'archivo', 'supuestamente', 'probarir', 'mandato', 'josé', 'maría', 'aznar', 'ocupar', 'diverso', 'cartera', '“', 'administración', 'público', 'vicepresidencia', 'decir', 'interior', 'jaime', 'cenicero', 'platar', 'precisamente', 'época', 'asegurar', 'hacer', 'corte', 'creer', 'preguntar', 'conocer', 'mundo', '”', 'asegurado', 'reiterar', '“', 'presidencia', 'poner', 'mano', 'fuego', '”', 'preguntado', 'ciudadano', 'español', 'confirmar', 'mariano', 'rajoy', 'presidir']\n",
            "\n"
          ]
        }
      ],
      "source": [
        "def filter_words(docs):\n",
        "    filtered_docs = []\n",
        "    allowed_pos = {\"NOUN\", \"PROPN\", \"VERB\", \"ADV\", \"ADJ\"}\n",
        "    for doc in docs:\n",
        "        spacy_doc = nlp(\" \".join(doc))\n",
        "        tokens = [token.lemma_.lower() for token in spacy_doc if token.pos_ in allowed_pos]\n",
        "        filtered_docs.append(tokens)\n",
        "    return filtered_docs\n",
        "\n",
        "# Probar con corpus_lemma del Ejercicio 3\n",
        "corpus_filtered = filter_words(corpus_lemma)\n",
        "\n",
        "print(\"Corpus filtrado por POS (primeros 3 documentos):\\n\")\n",
        "for i, tokens in enumerate(corpus_filtered[:3]):\n",
        "    print(f\"Documento {i+1}: {tokens}\\n\")"
      ]
    },
    {
      "cell_type": "markdown",
      "metadata": {
        "id": "FQdR7Z1-6DOc"
      },
      "source": [
        "#### **Ejercicio 5**\n",
        "**Función que dada una lista de documentos, devuelva los documentos normalizados. Este ejercicio ya esta hecho y simplemente tiene que funcionar llamando a las 4 funciones anteriores.**\n",
        "\n",
        "* **input**: lista de documentos (lista de Strings).\n",
        "* **output**: lista de listas, en la que cada lista contiene los tokens del documento normalizados."
      ]
    },
    {
      "cell_type": "code",
      "execution_count": 23,
      "metadata": {
        "id": "2MR7u9UP6DOc",
        "colab": {
          "base_uri": "https://localhost:8080/"
        },
        "outputId": "4d76a430-3031-4bb3-8283-4edef0e00433"
      },
      "outputs": [
        {
          "output_type": "stream",
          "name": "stdout",
          "text": [
            "Corpus normalizado: ['gobierno', 'español', 'sumar', 'junquero', 'condena', 'cumplir', 'puigdemont', 'revés', 'recibido', 'gobierno', 'españa', 'puesta', 'libertad', 'carles', 'puigdemont', 'justicia', 'alemán', 'juez', 'pablo', 'llarena']\n"
          ]
        }
      ],
      "source": [
        "def normalization(docs_list):\n",
        "    corpus = tokenization(docs_list)\n",
        "    corpus = remove_words(corpus)\n",
        "    corpus = lematization(corpus)\n",
        "    corpus = filter_words(corpus)\n",
        "    return corpus\n",
        "\n",
        "corpus = normalization(docs_list)\n",
        "print(\"Corpus normalizado:\", corpus[0][:20])"
      ]
    },
    {
      "cell_type": "markdown",
      "metadata": {
        "id": "uUVE5-X66DOc"
      },
      "source": [
        "<hr>\n",
        "\n",
        "\n",
        "### **2. Ejercicios de BoW (solución):**\n",
        "\n"
      ]
    },
    {
      "cell_type": "markdown",
      "source": [
        "#### **Ejercicio 6**\n",
        "**Crear una función que dada una lista de documentos (*corpus*) tokenizados, elimine del corpus aquellos tokens que aparecen menos de 'N' veces (N=10) en el corpus**\n",
        "\n",
        "* **input**: lista de listas, en la que cada lista contiene los tokens del documento normalizados.\n",
        "* **input**: 'n' -> Parámetro que nos indica el número mínimo de apariciones de la palabra en el corpus.\n",
        "* **output**: lista de listas, en la que cada lista contiene los tokens del documento normalizados."
      ],
      "metadata": {
        "id": "OjVEzJ1006S5"
      }
    },
    {
      "cell_type": "code",
      "execution_count": 24,
      "metadata": {
        "id": "H0vwLY916DOd",
        "colab": {
          "base_uri": "https://localhost:8080/"
        },
        "outputId": "a4c94470-d946-4401-ec58-d52bfd719e19"
      },
      "outputs": [
        {
          "output_type": "stream",
          "name": "stdout",
          "text": [
            "Corpus filtrado por frecuencia (primeros 3 documentos):\n",
            "\n",
            "Documento 1: ['gobierno', 'español', 'puigdemont', 'gobierno', 'españa', 'puigdemont', 'semana', 'líder', 'cataluña', 'puigdemont', 'asegurar', 'catalán', 'quedar', '“', 'líder', 'año', '“', 'seguir', 'año', '”', 'puigdemont', '“', 'hacer', '“', 'semana', 'encontrar']\n",
            "\n",
            "Documento 2: ['ciudadano', 'cifuent', 'año', 'venir', 'elección', 'ciudadano', 'gobierno', 'partido', 'semana', 'cifuent', 'ciudadano', 'año', 'venir', 'elección', 'madrid', 'hacer', '”', 'líder', '“', 'año', 'venir', 'elección', 'cifuent', 'ciudadano', 'demostrar', 'partido', 'gobierno', '“', 'cifuent', 'seguir', 'puesto', '“', 'pasar', '”', 'madrid', '“', 'cifuent', 'puesto', 'madrid', '”']\n",
            "\n",
            "Documento 3: ['mariano', 'rajoy', 'presidencia', 'españa', 'recordar', 'líder', 'partido', 'mariano', 'rajoy', 'partido', 'presidencia', 'españa', '“', 'recordar', 'prensa', 'cifuent', '“', 'año', '”', 'presidencia', 'país', '“', 'equipo', 'poner', 'año', 'importante', 'rajoy', '“', 'presidencia', 'jugar', 'mañana', 'nombre', 'demostrar', 'gobierno', 'rajoy', '“', 'público', 'decir', 'asegurar', 'hacer', '”', '“', 'presidencia', 'poner', '”', 'ciudadano', 'español', 'mariano', 'rajoy']\n",
            "\n"
          ]
        }
      ],
      "source": [
        "from collections import Counter\n",
        "\n",
        "def drop_less_frecuency_words(corpus, n):\n",
        "    all_tokens = [token for doc in corpus for token in doc]\n",
        "    freq = Counter(all_tokens)\n",
        "\n",
        "    filtered_corpus = []\n",
        "    for doc in corpus:\n",
        "        tokens = [token for token in doc if freq[token] >= n]\n",
        "        filtered_corpus.append(tokens)\n",
        "    return filtered_corpus\n",
        "\n",
        "# Probar con corpus_filtered del Ejercicio 4\n",
        "corpus_final = drop_less_frecuency_words(corpus_filtered, 10)\n",
        "\n",
        "print(\"Corpus filtrado por frecuencia (primeros 3 documentos):\\n\")\n",
        "for i, tokens in enumerate(corpus_final[:3]):\n",
        "    print(f\"Documento {i+1}: {tokens}\\n\")"
      ]
    },
    {
      "cell_type": "markdown",
      "metadata": {
        "id": "UAVgXxMe6DOd"
      },
      "source": [
        "#### **Ejercicio 7**\n",
        "**Dado el corpus, normalizado y con tokens que aparecen 10 veces o más en el corpus, se pide crear una bolsa de palabras en ONE-HOT-ENCODE con Gensim**"
      ]
    },
    {
      "cell_type": "code",
      "source": [
        "!pip install gensim"
      ],
      "metadata": {
        "colab": {
          "base_uri": "https://localhost:8080/",
          "height": 689
        },
        "id": "F7g9eJCkeuAx",
        "outputId": "e777d42c-eda7-4c36-abf8-fa62db22ad1f"
      },
      "execution_count": 15,
      "outputs": [
        {
          "output_type": "stream",
          "name": "stdout",
          "text": [
            "Collecting gensim\n",
            "  Downloading gensim-4.3.3-cp312-cp312-manylinux_2_17_x86_64.manylinux2014_x86_64.whl.metadata (8.1 kB)\n",
            "Collecting numpy<2.0,>=1.18.5 (from gensim)\n",
            "  Downloading numpy-1.26.4-cp312-cp312-manylinux_2_17_x86_64.manylinux2014_x86_64.whl.metadata (61 kB)\n",
            "\u001b[2K     \u001b[90m━━━━━━━━━━━━━━━━━━━━━━━━━━━━━━━━━━━━━━━━\u001b[0m \u001b[32m61.0/61.0 kB\u001b[0m \u001b[31m2.3 MB/s\u001b[0m eta \u001b[36m0:00:00\u001b[0m\n",
            "\u001b[?25hCollecting scipy<1.14.0,>=1.7.0 (from gensim)\n",
            "  Downloading scipy-1.13.1-cp312-cp312-manylinux_2_17_x86_64.manylinux2014_x86_64.whl.metadata (60 kB)\n",
            "\u001b[2K     \u001b[90m━━━━━━━━━━━━━━━━━━━━━━━━━━━━━━━━━━━━━━━━\u001b[0m \u001b[32m60.6/60.6 kB\u001b[0m \u001b[31m3.5 MB/s\u001b[0m eta \u001b[36m0:00:00\u001b[0m\n",
            "\u001b[?25hRequirement already satisfied: smart-open>=1.8.1 in /usr/local/lib/python3.12/dist-packages (from gensim) (7.3.0.post1)\n",
            "Requirement already satisfied: wrapt in /usr/local/lib/python3.12/dist-packages (from smart-open>=1.8.1->gensim) (1.17.3)\n",
            "Downloading gensim-4.3.3-cp312-cp312-manylinux_2_17_x86_64.manylinux2014_x86_64.whl (26.6 MB)\n",
            "\u001b[2K   \u001b[90m━━━━━━━━━━━━━━━━━━━━━━━━━━━━━━━━━━━━━━━━\u001b[0m \u001b[32m26.6/26.6 MB\u001b[0m \u001b[31m74.0 MB/s\u001b[0m eta \u001b[36m0:00:00\u001b[0m\n",
            "\u001b[?25hDownloading numpy-1.26.4-cp312-cp312-manylinux_2_17_x86_64.manylinux2014_x86_64.whl (18.0 MB)\n",
            "\u001b[2K   \u001b[90m━━━━━━━━━━━━━━━━━━━━━━━━━━━━━━━━━━━━━━━━\u001b[0m \u001b[32m18.0/18.0 MB\u001b[0m \u001b[31m93.2 MB/s\u001b[0m eta \u001b[36m0:00:00\u001b[0m\n",
            "\u001b[?25hDownloading scipy-1.13.1-cp312-cp312-manylinux_2_17_x86_64.manylinux2014_x86_64.whl (38.2 MB)\n",
            "\u001b[2K   \u001b[90m━━━━━━━━━━━━━━━━━━━━━━━━━━━━━━━━━━━━━━━━\u001b[0m \u001b[32m38.2/38.2 MB\u001b[0m \u001b[31m15.6 MB/s\u001b[0m eta \u001b[36m0:00:00\u001b[0m\n",
            "\u001b[?25hInstalling collected packages: numpy, scipy, gensim\n",
            "  Attempting uninstall: numpy\n",
            "    Found existing installation: numpy 2.0.2\n",
            "    Uninstalling numpy-2.0.2:\n",
            "      Successfully uninstalled numpy-2.0.2\n",
            "  Attempting uninstall: scipy\n",
            "    Found existing installation: scipy 1.16.1\n",
            "    Uninstalling scipy-1.16.1:\n",
            "      Successfully uninstalled scipy-1.16.1\n",
            "\u001b[31mERROR: pip's dependency resolver does not currently take into account all the packages that are installed. This behaviour is the source of the following dependency conflicts.\n",
            "thinc 8.3.6 requires numpy<3.0.0,>=2.0.0, but you have numpy 1.26.4 which is incompatible.\n",
            "opencv-contrib-python 4.12.0.88 requires numpy<2.3.0,>=2; python_version >= \"3.9\", but you have numpy 1.26.4 which is incompatible.\n",
            "opencv-python 4.12.0.88 requires numpy<2.3.0,>=2; python_version >= \"3.9\", but you have numpy 1.26.4 which is incompatible.\n",
            "opencv-python-headless 4.12.0.88 requires numpy<2.3.0,>=2; python_version >= \"3.9\", but you have numpy 1.26.4 which is incompatible.\n",
            "tsfresh 0.21.1 requires scipy>=1.14.0; python_version >= \"3.10\", but you have scipy 1.13.1 which is incompatible.\u001b[0m\u001b[31m\n",
            "\u001b[0mSuccessfully installed gensim-4.3.3 numpy-1.26.4 scipy-1.13.1\n"
          ]
        },
        {
          "output_type": "display_data",
          "data": {
            "application/vnd.colab-display-data+json": {
              "pip_warning": {
                "packages": [
                  "numpy",
                  "scipy"
                ]
              },
              "id": "1de089dbbf1547c78ff365ed3a993cbb"
            }
          },
          "metadata": {}
        }
      ]
    },
    {
      "cell_type": "code",
      "source": [
        "### Paso previo: generar corpus normalizado desde docs_list\n",
        "corpus = normalization(docs_list)\n",
        "corpus = drop_less_frecuency_words(corpus, 10)\n",
        "print(\"Corpus procesado listo para BoW:\", corpus[0][:20])\n"
      ],
      "metadata": {
        "colab": {
          "base_uri": "https://localhost:8080/"
        },
        "id": "T0R5FmYUfUxD",
        "outputId": "ccea7d80-d4a9-4596-b8d7-dacc4241846c"
      },
      "execution_count": 14,
      "outputs": [
        {
          "output_type": "stream",
          "name": "stdout",
          "text": [
            "Corpus procesado listo para BoW: ['gobierno', 'español', 'puigdemont', 'gobierno', 'españa', 'puigdemont', 'semana', 'líder', 'cataluña', 'puigdemont', 'asegurar', 'catalán', 'quedar', '“', 'líder', 'año', '“', 'seguir', 'año', '”']\n"
          ]
        }
      ]
    },
    {
      "cell_type": "code",
      "execution_count": 15,
      "metadata": {
        "id": "SL37y-Vi6DOd",
        "colab": {
          "base_uri": "https://localhost:8080/"
        },
        "outputId": "bbe34d55-7ef0-4fa1-a4bb-1efaefd22d90"
      },
      "outputs": [
        {
          "output_type": "stream",
          "name": "stdout",
          "text": [
            "Diccionario tamaño: 116\n",
            "Ejemplo One-Hot primer doc: [(0, 1), (1, 2), (2, 1), (3, 1), (4, 1), (5, 1), (6, 1), (7, 2), (8, 1), (9, 2)]\n"
          ]
        }
      ],
      "source": [
        "import gensim\n",
        "from gensim import corpora\n",
        "\n",
        "def one_hot_gensim(corpus):\n",
        "    dictionary = corpora.Dictionary(corpus)\n",
        "    one_hot = [dictionary.doc2bow(doc) for doc in corpus]\n",
        "    return dictionary, one_hot\n",
        "\n",
        "dictionary, one_hot = one_hot_gensim(corpus)\n",
        "print(\"Diccionario tamaño:\", len(dictionary))\n",
        "print(\"Ejemplo One-Hot primer doc:\", one_hot[0][:10])"
      ]
    },
    {
      "cell_type": "markdown",
      "metadata": {
        "id": "thsXMxfL6DOd"
      },
      "source": [
        "#### **Ejercicio 8**\n",
        "**Dado el corpus, normalizado y con tokens que aparecen 10 veces o más en el corpus, se pide crear una bolsa de palabras aplicando el TF-IDF con scikit**"
      ]
    },
    {
      "cell_type": "code",
      "execution_count": 27,
      "metadata": {
        "id": "tbMd9CON6DOd",
        "colab": {
          "base_uri": "https://localhost:8080/"
        },
        "outputId": "60c8029d-4e34-469f-d839-b3c94a13996c"
      },
      "outputs": [
        {
          "output_type": "stream",
          "name": "stdout",
          "text": [
            "TF-IDF dimensiones (docs x términos): (52, 2677)\n",
            "Número de términos únicos: 2677\n",
            "\n",
            "Bag of Words (primeros 5 documentos x 20 términos):\n",
            "   2015   30   80  abajo  abandonar  abanicar  abaratamiento  abdominal  \\\n",
            "0   0.0  0.0  0.0    0.0        0.0       0.0            0.0        0.0   \n",
            "1   0.0  0.0  0.0    0.0        0.0       0.0            0.0        0.0   \n",
            "2   0.0  0.0  0.0    0.0        0.0       0.0            0.0        0.0   \n",
            "3   0.0  0.0  0.0    0.0        0.0       0.0            0.0        0.0   \n",
            "4   0.0  0.0  0.0    0.0        0.0       0.0            0.0        0.0   \n",
            "\n",
            "   abdullah  abierto  abrar  abrazar  abrazo     abrir  absolutamente  \\\n",
            "0       0.0      0.0    0.0      0.0     0.0  0.000000            0.0   \n",
            "1       0.0      0.0    0.0      0.0     0.0  0.000000            0.0   \n",
            "2       0.0      0.0    0.0      0.0     0.0  0.000000            0.0   \n",
            "3       0.0      0.0    0.0      0.0     0.0  0.000000            0.0   \n",
            "4       0.0      0.0    0.0      0.0     0.0  0.077226            0.0   \n",
            "\n",
            "   absoluto  abstención   absurdo  abuelo  abultado  \n",
            "0       0.0         0.0  0.000000     0.0       0.0  \n",
            "1       0.0         0.0  0.000000     0.0       0.0  \n",
            "2       0.0         0.0  0.078169     0.0       0.0  \n",
            "3       0.0         0.0  0.000000     0.0       0.0  \n",
            "4       0.0         0.0  0.000000     0.0       0.0  \n"
          ]
        }
      ],
      "source": [
        "from sklearn.feature_extraction.text import TfidfVectorizer\n",
        "import pandas as pd\n",
        "\n",
        "def tfidf_sklearn(corpus):\n",
        "    docs = [\" \".join(doc) for doc in corpus]\n",
        "    vectorizer = TfidfVectorizer()\n",
        "    X = vectorizer.fit_transform(docs)\n",
        "    return vectorizer, X\n",
        "\n",
        "vectorizer, X = tfidf_sklearn(corpus)\n",
        "\n",
        "print(\"TF-IDF dimensiones (docs x términos):\", X.shape)\n",
        "print(\"Número de términos únicos:\", len(vectorizer.get_feature_names_out()))\n",
        "\n",
        "# Mostrar una parte de la matriz BoW\n",
        "df_bow = pd.DataFrame(\n",
        "    X.toarray()[:5, :20],\n",
        "    columns=vectorizer.get_feature_names_out()[:20]\n",
        ")\n",
        "\n",
        "print(\"\\nBag of Words (primeros 5 documentos x 20 términos):\")\n",
        "print(df_bow)"
      ]
    }
  ],
  "metadata": {
    "kernelspec": {
      "display_name": "Python 3",
      "language": "python",
      "name": "python3"
    },
    "language_info": {
      "codemirror_mode": {
        "name": "ipython",
        "version": 3
      },
      "file_extension": ".py",
      "mimetype": "text/x-python",
      "name": "python",
      "nbconvert_exporter": "python",
      "pygments_lexer": "ipython3",
      "version": "3.7.10"
    },
    "colab": {
      "provenance": []
    }
  },
  "nbformat": 4,
  "nbformat_minor": 0
}